{
 "cells": [
  {
   "cell_type": "markdown",
   "id": "e9237f32-6c6a-47d5-9f7c-f35a86e717e8",
   "metadata": {
    "slideshow": {
     "slide_type": "skip"
    }
   },
   "source": [
    "# Noter\n",
    "\n",
    "## __Redskaber der blev anvendt til at lave præsentationen__\n",
    "\n",
    "__N.B.__: Denne og den næste celle er kun interessant for dem, der eventuelt interesserer sig for præsentationsformatet.\n",
    "\n",
    "### For at køre præsentationen lokalt\n",
    "#### Jupyter Notebook\n",
    "Jupyter (og en masse anden Python-funktionalitet) kan installeres med Anaconda.\n",
    "https://www.anaconda.com/products/individual#Downloads\n",
    "\n",
    "#### RISE:\n",
    "Add-on til Jupyter.\n",
    "https://rise.readthedocs.io/en/stable/index.html\n",
    "\n",
    "\n",
    "#### Billed- og video-embedding\n",
    "- Med HTML:\n",
    "\n",
    "```HTML\n",
    "<img src=\"illustrations/hc_encoding_phase.png\" width=400 height=400 />\n",
    "```\n",
    "\n",
    "- Med Markdown:\n",
    "\n",
    "```markdown\n",
    "![The hippocampus](./illustrations/hippocampus_etymology.png)\n",
    "```\n",
    "\n",
    "- Med IPython:\n",
    "\n",
    "``` python\n",
    "import IPython\n",
    "\n",
    "IPython.display.HTML('<img src=\"./illustrations/hippocampus_etymology.png\", width=\"1200\">')\n",
    "```\n",
    "\n",
    "Displaying a video\n",
    "<br>\n",
    "N.B.: Weirdly intuitive function with the widgets\n",
    "\n",
    "\n",
    "```python\n",
    "from ipywidgets import Video\n",
    "\n",
    "vid_path = \"./illustrations/zoretal.mp4\"\n",
    "\n",
    "Video.from_file(vid_path)\n",
    "```\n",
    "\n",
    "#### Cropping af videoer\n",
    "##### Eksempler med ffmpeg\n",
    "ffmpeg -i navn_paa_videofil_der_skal_beskaeres.mp4 -filter:v \"crop=in_w:in_h:482:327\" -c:a copy beskaaret_videofil.mp4\n",
    "\n",
    "ffmpeg -i control_fil_navn.mp4 -filter:v \"crop=in_w-20:in_h-60:1:60\" -c:a copy control_mri_cropped.mp4"
   ]
  },
  {
   "cell_type": "code",
   "execution_count": 2,
   "id": "08e6796c",
   "metadata": {
    "slideshow": {
     "slide_type": "skip"
    }
   },
   "outputs": [],
   "source": [
    "\"\"\"\n",
    "Preamble, der importerer og definerer -- hvis dette ikke bliver \"kørt\" (aktuel celle køres med \"ctrl + Enter\"), vil meget af præsentationen ikke fungere.\n",
    "\"\"\"\n",
    "#####################################\n",
    "# Importér nødvendig funktionalitet #\n",
    "#####################################\n",
    "from ipywidgets import Video, Image, HBox, GridBox, widgets\n",
    "\n",
    "try:\n",
    "    import markdown\n",
    "except:\n",
    "    !pip install markdown\n",
    "    import markdown\n",
    "\n",
    "###############################\n",
    "# HM-slide'et\n",
    "###############################\n",
    "hm_mri_video = Video.from_file(\n",
    "    \"./videos/hm_mri_cropped.mp4\",\n",
    "    width=600\n",
    ")\n",
    "\n",
    "control_mri_video = Video.from_file(\n",
    "    \"./videos/control_mri_cropped_w_time.mp4\",\n",
    "    width=600\n",
    ")\n",
    "\n",
    "hm_profile_im = Image(\n",
    "    value=open(\"illustrations/patient_hm.png\", 'rb').read(),\n",
    "    width=600\n",
    ")\n",
    "\n",
    "hm_procedural_memory_im = Image(\n",
    "    value=open(\"illustrations/patient_hm_skill_learning.png\", 'rb').read(),\n",
    "    height=400\n",
    ")\n",
    "\n",
    "# fra \"https://suzannecorkin.com/patient-h-m/\"\n",
    "# Dette blev ekskluderet fra præsentationen, da det gjorde slide'et lidt for \"busy\"\n",
    "hm_one_liner = widgets.HTML(\n",
    "    value='''<blockquote><p class=\"quotation\"> \n",
    "  In 1953, 27-year-old Henry Gustave Molaison underwent an experimental “psychosurgical” procedure—a targeted lobotomy—in an effort to alleviate his debilitating epilepsy. The outcome was unexpected—when Henry awoke, he could no longer form new memories, and for the rest of his life would be trapped in the moment.</p>\n",
    "<footer>— Learned Hand</footer>\n",
    "</blockquote>''',\n",
    "    placeholder='Type something',\n",
    ")\n",
    "\n",
    "html = markdown.markdown(\"\"\"## _In 1953, 27-year-old <span style=\"color:magenta\"><b>H</b></span>enry Gustave <span style=\"color:magenta\"><b>M</b></span>olaison underwent an experimental “psychosurgical” procedure—a <span style=\"color:#ffaa0b\">targeted lobotomy</span>—in an effort to alleviate his debilitating epilepsy. The outcome was unexpected—when Henry awoke, <span style=\"color:#ffaa0b\">he could no longer form new memories</span>, and for the rest of his life would be trapped in the moment._ - Suzanne Corkin, author of _Permanent Present Tense_\"\"\")\n",
    "\n",
    "hm_one_liner = widgets.HTML(\n",
    "    html\n",
    ")\n",
    "\n",
    "# erstatter teksten ovenfor, der blev fjernet\n",
    "empty_html = widgets.HTML()\n",
    "\n",
    "\n",
    "# Variabel der placerer videoer og billede på et slide\n",
    "patient_hm = GridBox([hm_profile_im, empty_html, hm_mri_video, control_mri_video], layout=widgets.Layout(\n",
    "                                    width='100%',\n",
    "                                    grid_template_columns='500px 500px',\n",
    "                                    #grid_template_rows='500px 500px',\n",
    "                                    grid_gap='5px 5px'))\n",
    "\n",
    "\n",
    "############################################################\n",
    "# O'keefe og place cells (og grid-cells (og andre cells!)) #\n",
    "############################################################\n",
    "# Nødvendige widgets (der viser videoer og andet)\n",
    "def fitting_gb(content):\n",
    "    gb = GridBox([content], layout=widgets.Layout(\n",
    "                                    width='100%',\n",
    "                                    grid_template_columns='500px 500px',\n",
    "                                    #grid_template_rows='500px 500px',\n",
    "                                    grid_gap='5px 5px'))\n",
    "    return gb\n",
    "\n",
    "vid_place_cells = Video.from_file(\"./videos/place_cell.mp4\")\n",
    "\n",
    "vid_grid_cells = Video.from_file(\"./videos/grid_cells.mp4\")\n",
    "\n",
    "# Ekskluderet da det blev lidt rodet at lade en video køre imens der blev forklaret\n",
    "vid_okeefe = Video.from_file(\"./videos/okeefe.mp4\", width = 400)\n",
    "\n",
    "cell_types = Image(\n",
    "    value=open(\"illustrations/cell_types_by_function.png\", 'rb').read(),\n",
    "    width=600\n",
    ")\n",
    "\n",
    "grid_cells_loc = Image(\n",
    "    value=open(\"illustrations/grid_cells_electrode_location.png\", 'rb').read(),\n",
    "    width=600\n",
    ")\n",
    "    \n",
    "grid_cells_loc_des = Image(\n",
    "    value=open(\"illustrations/grid_cells_electrode_location_description.png\", 'rb').read(),\n",
    "    width=600\n",
    ")"
   ]
  },
  {
   "cell_type": "markdown",
   "id": "15842dc2",
   "metadata": {
    "slideshow": {
     "slide_type": "slide"
    }
   },
   "source": [
    "<center> <img src=\"illustrations/hippocampus_etymology.png\" height=400 /> </center> "
   ]
  },
  {
   "cell_type": "markdown",
   "id": "5e465555",
   "metadata": {
    "slideshow": {
     "slide_type": "notes"
    }
   },
   "source": [
    "Hvorfor hedder det hippocampus?\n",
    "\n",
    "Latin for søhest.\n",
    "\n",
    "Hapset fra græsk.\n",
    "\n",
    "$ ippo = hest $\n",
    " <br>\n",
    "$ kampos = havmonster $\n",
    "\n",
    "Hvorfor er den så så skide interessant?\n",
    "\n",
    "Særligt fordi det er \"nemt\" at sætte translationelle paradigmer op."
   ]
  },
  {
   "cell_type": "markdown",
   "id": "242a17bc",
   "metadata": {
    "slideshow": {
     "slide_type": "slide"
    }
   },
   "source": [
    "\n",
    "# Vi skal snakke om:\n",
    "1. Kort - Hvem jeg er\n",
    "2. Patient HM -- anledning til megen interesse i HC\n",
    "3. Indplacering af HCs rolle i hukommelsesteori\n",
    "    - episodisk hukommelse\n",
    "    - læring\n",
    "4. Londons Taxa-chauffører\n",
    "4. HC som en Rosetta-sten -- celler med særlige funktioner\n",
    "5. Hjernens funktionelle plasticitet"
   ]
  },
  {
   "cell_type": "markdown",
   "id": "561ef0c4",
   "metadata": {
    "slideshow": {
     "slide_type": "slide"
    }
   },
   "source": [
    "\n",
    "\n",
    "<center> <h1> Nicolaj Daugaard </h1> </center> <br>\n",
    "<center> <h2> Psykolog uddannet på SDU </h2> </center>\n",
    "<center> <h2> PhD-studerende hos Palner Group </h2> </center>\n",
    "<center> <h2> nda@sdu.dk </h2> </center>"
   ]
  },
  {
   "cell_type": "markdown",
   "id": "33a51158",
   "metadata": {
    "slideshow": {
     "slide_type": "notes"
    }
   },
   "source": [
    "- Primært fokus på adfærdsmodeller.\n",
    "<br>\n",
    "- Adfærdsmønstres neurale substrat."
   ]
  },
  {
   "cell_type": "code",
   "execution_count": 3,
   "id": "4ffa1ecc",
   "metadata": {
    "slideshow": {
     "slide_type": "slide"
    }
   },
   "outputs": [
    {
     "data": {
      "application/vnd.jupyter.widget-view+json": {
       "model_id": "8e0761ef371d498eb254f5ca82fe4231",
       "version_major": 2,
       "version_minor": 0
      },
      "text/plain": [
       "GridBox(children=(Image(value=b'\\x89PNG\\r\\n\\x1a\\n\\x00\\x00\\x00\\rIHDR\\x00\\x00\\x01\\xfa\\x00\\x00\\x01\\x81\\x08\\x02\\x0…"
      ]
     },
     "metadata": {},
     "output_type": "display_data"
    }
   ],
   "source": [
    "patient_hm"
   ]
  },
  {
   "cell_type": "markdown",
   "id": "ba6dbd81",
   "metadata": {
    "slideshow": {
     "slide_type": "notes"
    }
   },
   "source": [
    "Bilateral fjernelse af hippocampi for at behandle epilepsi. Bemærk de voldsomt udvidede ventrikler.\n",
    "\n",
    "Sammelignet med denne: <br>\n",
    "https://www.openanatomy.org/atlases/nac/brain-2017-01/viewer/#!/view/2b9e0e9a-7034-4331-b22b-383c975fd328/state/96239f1c-15b5-4246-be5f-88ff464a2186\n",
    "\n",
    "#### Intakt\n",
    "- arbejdshukommelse\n",
    "- retrograd episodisk hukommelse (>1-2 år før operationen)\n",
    "- semantisk hukommelse bevaret (e.g.: sprog bevaret)\n",
    "- procedural hukommelse bevaret\n",
    "\n",
    "#### Stærkt forstyrret anterograd deklarativ hukommelse.\n",
    "- (noget måske bevaret (https://youtu.be/_7akPs8ptg4?t=268))"
   ]
  },
  {
   "cell_type": "markdown",
   "id": "e46cb699",
   "metadata": {
    "slideshow": {
     "slide_type": "slide"
    }
   },
   "source": [
    "<center> <img src=\"illustrations/patient_hm_skill_learning.png\" width = 750 /> </center>"
   ]
  },
  {
   "cell_type": "markdown",
   "id": "235144ec",
   "metadata": {
    "slideshow": {
     "slide_type": "notes"
    }
   },
   "source": [
    "## Er læring mulig uden HC?\n",
    "\n",
    "Øverst: <br>\n",
    "Illustration af opgave hvor der skal tegnes langs stregerne af en figur. Figuren kan kun ses gennem et spejl. Det er svært.\n",
    "\n",
    "Nederst: <br>\n",
    "Plot af HMs læring i opgaven. Tydelig forbedring. <br>\n",
    "__Bemærkelsesværdigt__ fordi han ingen erindring havde af tidligere at have trænet. <br>\n",
    "- Brenda Milner fortæller om, da hun testede ham: https://www.youtube.com/watch?v=pdJBiiiwI_Y\n",
    " <br>\n",
    " \n",
    "### Antyder __forskellige former for hukommelse__\n",
    "\n",
    "### Afgrænset rolle for HC"
   ]
  },
  {
   "cell_type": "markdown",
   "id": "690f9310",
   "metadata": {
    "slideshow": {
     "slide_type": "slide"
    }
   },
   "source": [
    "<center> <img src=\"illustrations/theory_of_memory_functions.png\" width = 2000 /> </center>"
   ]
  },
  {
   "cell_type": "markdown",
   "id": "4aa8f26d",
   "metadata": {
    "slideshow": {
     "slide_type": "notes"
    }
   },
   "source": [
    "En formulering af __opdelingen af hukommelsestyper__ -- der i større eller mindre omfang har dissocieret neuralt substrat.\n",
    "\n",
    "__Hippocampus' rolle__ i langtidshukommelse vil ofte afgrænses til den __deklarative (relationelle) gren__ (i.e.: det første svar til en psykologi-eksamen) - særligt i indlæringsregi. Modsat vil striatums rolle ofte beskrives som relateret til non-deklarative hukommelse, særligt procedural-hukommelse/færdighedslæring(/skill learning).\n",
    "\n",
    "\n",
    "Fra Larry Squire\n",
    "- \"Declarative memory expressed through recollection.\", \"flexible\", effortful\n",
    "- \"Non-declarative expressed through performance.\" \"less flexible\", cost-efficient\n",
    "\n",
    "Fra _Purves et al (2008): Principles of Cognitive Neuroscience_"
   ]
  },
  {
   "cell_type": "markdown",
   "id": "4338d95f",
   "metadata": {
    "slideshow": {
     "slide_type": "slide"
    }
   },
   "source": [
    "<center> <img src=\"illustrations/hc_index_theory.png\" height=400 /> </center> "
   ]
  },
  {
   "cell_type": "markdown",
   "id": "06bfc940",
   "metadata": {
    "slideshow": {
     "slide_type": "notes"
    }
   },
   "source": [
    "- A) __Encoding:__ Temporally closely related perceptions and events get correlated short term through their mutual connection with the HC\n",
    "<br>\n",
    "\n",
    "- B) __Storage:__. Ved tilstrækkelig samaktivering bliver disse forbindelser lagret i \"langtidshukommelsen\", til senere brug afhængig af klarheden og styrken af den resulterende forbindelse. I første omgang formentlig via e.g.: LTP-mekanismer Mikael refererede (Bliss og Lomø, 1973).\n",
    "<br>\n",
    "\n",
    "- C) __Retrieval:__ Ved efterfølgende aktivering af hukommelsessporet kan relationen mellem de lagrede informationer hentes frem til aktiv manipulation (i.e.: de bliver bevidstgjorte)\n",
    "<br>\n",
    "\n",
    "Fra _Purves et al (2008): Principles of Cognitive Neuroscience_"
   ]
  },
  {
   "cell_type": "markdown",
   "id": "303887e7",
   "metadata": {
    "slideshow": {
     "slide_type": "slide"
    }
   },
   "source": [
    "<center> <img src=\"illustrations/hc_remote_memories_phase.png\" height=300 /> </center>"
   ]
  },
  {
   "cell_type": "markdown",
   "id": "872bafc0",
   "metadata": {
    "slideshow": {
     "slide_type": "notes"
    }
   },
   "source": [
    "Ved __gentagen reaktivering__ (e.g.: genfortælling, genoplevelse) bliver nogle minder __uafhængiggjort af HC__s bidrag.\n",
    "\n",
    "E.g.: HM's retrograde amnesi strak sig kun et par år tilbage -- øvrig hukommelse var bevaret andetsteds."
   ]
  },
  {
   "cell_type": "markdown",
   "id": "a4165b22",
   "metadata": {
    "slideshow": {
     "slide_type": "slide"
    }
   },
   "source": [
    "<center> <img src=\"illustrations/maguire_hc_size_barchart.png\" width = 750 /> </center>"
   ]
  },
  {
   "cell_type": "markdown",
   "id": "aad1ab4f",
   "metadata": {
    "slideshow": {
     "slide_type": "notes"
    }
   },
   "source": [
    "Maguire et al (2000) - doi: 10.1073/pnas.070039597\n",
    "\n",
    "Større posteriore hippocampi, når man har kørt taxa længere.\n",
    "\n",
    "https://scienceblogs.com/retrospectacle/2006/08/15/london-cabbies-gps-navigation:\n",
    "\n",
    ">In humans, as in other animals, the posterior hippocampus seems to be preferentially involved when previously\n",
    "learned spatial information is used, whereas the anterior hippocampal region may be more involved (in combination\n",
    "with the posterior hippocampus) during the encoding of new environmental layouts.\n",
    "\n",
    "__indikation af differentieret funktion af (i hvert fald) anterior og posterior HC__\n",
    "\n",
    "Mindre anteriore hc (fra Maguire)\n",
    "> The anterior changes did not survive correction for multiple comparisons but were confirmed in the second analysis technique as described below.\n"
   ]
  },
  {
   "cell_type": "markdown",
   "id": "79d1c241",
   "metadata": {
    "slideshow": {
     "slide_type": "slide"
    }
   },
   "source": [
    "<center> <img src=\"illustrations/maguire_hc_size_regression_plot.png\" width = 1000 /> </center>"
   ]
  },
  {
   "cell_type": "markdown",
   "id": "0f978b7a",
   "metadata": {
    "slideshow": {
     "slide_type": "notes"
    }
   },
   "source": [
    "Også Maguire et al (2000) - doi: 10.1073/pnas.070039597\n",
    "\n",
    "Regressionsplots.\n",
    "\n",
    "Der viser os henholdsvis\n",
    "- b.) en positiv korrelation mellem __grey-matter density i posterior HC__ og __tid med taxa-kørsel__.\n",
    "    - voxel-based morphometry (VBM)\n",
    "        - VBM is an objective and automatic procedure that identifies regional differences in relative gray matter density in structural MRI brain scans. It allows every point in the brain to be considered in an unbiased way, with no.\n",
    "        \n",
    "- c.) en negativ korrelation mellem __overfladeareal af tværsnit fra anterior HC__ og __tid med taxa-kørsel__.\n",
    "    - pixel-counting"
   ]
  },
  {
   "cell_type": "markdown",
   "id": "746849dd",
   "metadata": {
    "slideshow": {
     "slide_type": "skip"
    }
   },
   "source": [
    "<center> <img src=\"illustrations/maguire_causal_interpretation.png\" width = 1000 /> </center>"
   ]
  },
  {
   "cell_type": "markdown",
   "id": "6ff5bda3",
   "metadata": {
    "slideshow": {
     "slide_type": "skip"
    }
   },
   "source": [
    "Hvad kunne en alternativ fortolkning være af den forhåndenværende data?\n",
    "\n",
    "Kausalitet != korrelation\n",
    "\n",
    "Generel udfordring at sondre de to fra hinanden. Kræver meget kontrol over sit set-up."
   ]
  },
  {
   "cell_type": "code",
   "execution_count": null,
   "id": "26aa8350",
   "metadata": {
    "slideshow": {
     "slide_type": "skip"
    }
   },
   "outputs": [],
   "source": [
    "vid_okeefe"
   ]
  },
  {
   "cell_type": "markdown",
   "id": "97867bd0",
   "metadata": {
    "slideshow": {
     "slide_type": "skip"
    }
   },
   "source": [
    "## __John O'Keefe__ SKIPPET\n",
    "\n",
    "Fik (sammen med Moserne (Edvard og May-Britt), der opdagede ___grid cells___) Nobel-prisen (Physiology or Medicine)\n",
    "\n",
    "> ### ___for their discoveries of cells that constitute a positioning system in the brain.___\n",
    "\n",
    "Her fortæller han sin historie -- også __inspireret af historien om HM__ (og Hebbe (_Hebbian learning_) og Tolman (_cognitive map_))."
   ]
  },
  {
   "cell_type": "code",
   "execution_count": 4,
   "id": "076d887e",
   "metadata": {
    "slideshow": {
     "slide_type": "slide"
    }
   },
   "outputs": [
    {
     "data": {
      "application/vnd.jupyter.widget-view+json": {
       "model_id": "a3157828f9004a548ce034b6dd401284",
       "version_major": 2,
       "version_minor": 0
      },
      "text/plain": [
       "Video(value=b'\\x00\\x00\\x00\\x1cftypisom\\x00\\x00\\x02\\x00isomiso2mp41\\x00\\x00\\x00\\x08free\\x00\\x8f4\\xa6mdat\\xfc\\xf…"
      ]
     },
     "metadata": {},
     "output_type": "display_data"
    }
   ],
   "source": [
    "vid_place_cells"
   ]
  },
  {
   "cell_type": "markdown",
   "id": "c79e9f36",
   "metadata": {
    "slideshow": {
     "slide_type": "notes"
    }
   },
   "source": [
    "### Hvordan virker HC så?\n",
    "\n",
    "Noget information har vi fra opdagelsen af celler i HC og det omkring liggende der har meget klare adfærdskorrelater\n",
    "\n",
    "### Illustration af ___Place Cell___\n",
    "\n",
    "__Dem O'Keefe (og Dostrovsky) fandt.__\n",
    "\n",
    "Ved optagelse af _lokale felt-potentialer_ (___Local Field Potentials___) med implanterede elektroder\n",
    "\n",
    "Sjovt nok fra en artikel, der sår tvivl om _place cell_-konstruktet\n",
    "https://elifesciences.org/articles/15986"
   ]
  },
  {
   "cell_type": "code",
   "execution_count": 5,
   "id": "a9001fae",
   "metadata": {
    "slideshow": {
     "slide_type": "slide"
    }
   },
   "outputs": [
    {
     "data": {
      "application/vnd.jupyter.widget-view+json": {
       "model_id": "f5f9233cee8a44a8a023a0208f6b4e73",
       "version_major": 2,
       "version_minor": 0
      },
      "text/plain": [
       "Video(value=b'\\x00\\x00\\x00\\x1cftypisom\\x00\\x00\\x02\\x00isomiso2mp41\\x00\\x00\\x00\\x08free\\x00 \\xcd\\rmdat\\x82I\\x83…"
      ]
     },
     "metadata": {},
     "output_type": "display_data"
    }
   ],
   "source": [
    "vid_grid_cells"
   ]
  },
  {
   "cell_type": "markdown",
   "id": "aa28b5c7",
   "metadata": {
    "slideshow": {
     "slide_type": "notes"
    }
   },
   "source": [
    "### Først: Illustrationen celle-aktivitet\n",
    "\n",
    "### Så: Illustration af prediktiv statistisk modellering\n",
    "\n",
    "Referencer i slutningen af videoen."
   ]
  },
  {
   "cell_type": "markdown",
   "id": "043c4d18",
   "metadata": {
    "slideshow": {
     "slide_type": "slide"
    }
   },
   "source": [
    "<center> <img src=\"illustrations/grid_cells_electrode_location.png\" height=400 /> </center>"
   ]
  },
  {
   "cell_type": "markdown",
   "id": "11edb079",
   "metadata": {
    "slideshow": {
     "slide_type": "notes"
    }
   },
   "source": [
    "<center> <img src=\"illustrations/grid_cells_electrode_location_description.png\" height=400 /> </center>"
   ]
  },
  {
   "cell_type": "markdown",
   "id": "28d264b6",
   "metadata": {
    "slideshow": {
     "slide_type": "slide"
    }
   },
   "source": [
    "<center> <img src=\"illustrations/effect_of_cue_rotation.png\" width=600 /> </center>"
   ]
  },
  {
   "cell_type": "markdown",
   "id": "520ff1c7",
   "metadata": {
    "slideshow": {
     "slide_type": "notes"
    }
   },
   "source": [
    "Grid cells anvender (i hvert fald også) eksterne visuelle cues -- ellers ville en cue-rotation ikke dreje \"firing pattern\"."
   ]
  },
  {
   "cell_type": "markdown",
   "id": "c3af56ff",
   "metadata": {
    "slideshow": {
     "slide_type": "slide"
    }
   },
   "source": [
    "<center> <img src=\"illustrations/cell_types_by_function.png\" height=400 /> </center>"
   ]
  },
  {
   "cell_type": "markdown",
   "id": "54066453",
   "metadata": {
    "slideshow": {
     "slide_type": "notes"
    }
   },
   "source": [
    "En oversigt fra O'Keefes præsentation.\n",
    "\n",
    "Giver en idé om, hvorfor HC kan være så interessant, da vi finder forskellige celler, der har forskellige men relaterede funktioner. Ergo: Måske hjernens Rosetta-sten.\n",
    "\n",
    "\n",
    "- Grid cells\n",
    "    - (entorhinal cortex)\n",
    "        - Moser'ne\n",
    "\n",
    "- Head-direction cells\n",
    "    - presubiculum\n",
    "        - John B Rankin\n",
    "        \n",
    "- Boundary cells\n",
    "    - subiculum, EC, pre- og parasubiculum\n",
    "        - Moser'ne også involveret\n",
    "        \n",
    "    "
   ]
  },
  {
   "cell_type": "markdown",
   "id": "cd1cbc1d",
   "metadata": {
    "slideshow": {
     "slide_type": "notes"
    }
   },
   "source": [
    "Water maze.\n",
    "\n",
    "Bruges meget ofte til at undersøge HC-funktion"
   ]
  },
  {
   "cell_type": "markdown",
   "id": "c9618d33",
   "metadata": {
    "slideshow": {
     "slide_type": "skip"
    }
   },
   "source": [
    "<center> <img src=\"illustrations/8_arm_with_cues.png\" width = 700 /> </center>"
   ]
  },
  {
   "cell_type": "markdown",
   "id": "54ad60dc",
   "metadata": {
    "slideshow": {
     "slide_type": "skip"
    }
   },
   "source": [
    "### Eksempler fra UCN\n",
    "\n",
    "#### 8-arms-maze SKIPPET\n",
    "- allo-centrisk mapping-based ~ deklarativ/relationel\n",
    "- ego ~ non-deklarativ/procedural/respons"
   ]
  },
  {
   "cell_type": "markdown",
   "id": "8c124008",
   "metadata": {
    "slideshow": {
     "slide_type": "slide"
    }
   },
   "source": [
    "<center> <img src=\"illustrations/place_learning_in_scop_rats.png\" width = 700 /> </center>"
   ]
  },
  {
   "cell_type": "markdown",
   "id": "3c0725dd",
   "metadata": {
    "slideshow": {
     "slide_type": "notes"
    }
   },
   "source": [
    "- Mere mudret end som så\n",
    "- intet behov for HC til e.g.: Place learning\n",
    "- pfc kan overtage (i.e.: amphetaminerg stimulation forstyrrer selektivt præstation hos dyr, der har måttet bero på pfc funktion under indlæring)\n",
    "- modsatte er tilfældet for scopolamin"
   ]
  },
  {
   "cell_type": "markdown",
   "id": "cb463b3b",
   "metadata": {
    "slideshow": {
     "slide_type": "slide"
    }
   },
   "source": [
    "<center> <img src=\"illustrations/water_maze.png\" width = 700 /> </center>"
   ]
  },
  {
   "cell_type": "markdown",
   "id": "19b83a79",
   "metadata": {
    "slideshow": {
     "slide_type": "notes"
    }
   },
   "source": [
    "Water maze"
   ]
  },
  {
   "cell_type": "markdown",
   "id": "a6fa69dc",
   "metadata": {
    "slideshow": {
     "slide_type": "slide"
    }
   },
   "source": [
    "<center> <img src=\"illustrations/place_learning_under_scope.png\" width = 700 /> </center>"
   ]
  },
  {
   "cell_type": "markdown",
   "id": "b0398d9f",
   "metadata": {
    "slideshow": {
     "slide_type": "notes"
    }
   },
   "source": [
    "Ingen (signifikante) forskelle hverken først eller sidst under _place learning_."
   ]
  },
  {
   "cell_type": "markdown",
   "id": "c040ddc8",
   "metadata": {
    "slideshow": {
     "slide_type": "slide"
    }
   },
   "source": [
    "<center> <img src=\"illustrations/scop_amph.png\" width = 700 /> </center>"
   ]
  },
  {
   "cell_type": "markdown",
   "id": "87e5e5e6",
   "metadata": {
    "slideshow": {
     "slide_type": "notes"
    }
   },
   "source": [
    "Amph hæmmer selektivt præstationen hos Scopolamin-trænede dyr. Hypotetisk gennem øgningen af entropi i PFC-signalering."
   ]
  },
  {
   "cell_type": "markdown",
   "id": "13aeaea3",
   "metadata": {
    "slideshow": {
     "slide_type": "slide"
    }
   },
   "source": [
    "<img src=\"illustrations/place_learning_ff_pfc.png\" width=\"800\">"
   ]
  },
  {
   "cell_type": "markdown",
   "id": "4981567b",
   "metadata": {
    "slideshow": {
     "slide_type": "notes"
    }
   },
   "source": [
    "Systemisk administration af psykofarmaka gør det svært at lokalisere effekter. Her et studie, der foretager lokaliserede skader af de formodet involverede strukturer, PFC og HC, samt PFC og HC i kombination."
   ]
  },
  {
   "cell_type": "markdown",
   "id": "ee83a392",
   "metadata": {
    "slideshow": {
     "slide_type": "slide"
    }
   },
   "source": [
    "<img src=\"illustrations/number_of_platform_crossings.png\" width=\"800\">"
   ]
  },
  {
   "cell_type": "markdown",
   "id": "c625c198",
   "metadata": {
    "slideshow": {
     "slide_type": "notes"
    }
   },
   "source": [
    "Kun gruppen af dyr med den kombinerede læsion har betydeligt sværere ved at lære placeringen af platformen i water maze'en at kende. Hér illustreret ved at tælle, hvor mange gange dyrene passerer det sted, hvor plaformen tidligere var, når den fjernes i et _probe trial_."
   ]
  }
 ],
 "metadata": {
  "celltoolbar": "Slideshow",
  "kernelspec": {
   "display_name": "Python 3 (ipykernel)",
   "language": "python",
   "name": "python3"
  },
  "language_info": {
   "codemirror_mode": {
    "name": "ipython",
    "version": 3
   },
   "file_extension": ".py",
   "mimetype": "text/x-python",
   "name": "python",
   "nbconvert_exporter": "python",
   "pygments_lexer": "ipython3",
   "version": "3.8.11"
  }
 },
 "nbformat": 4,
 "nbformat_minor": 5
}
